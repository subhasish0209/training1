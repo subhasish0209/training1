{
 "cells": [
  {
   "cell_type": "code",
   "execution_count": 1,
   "id": "fa928e78-34fe-41ed-b908-866b54fe260c",
   "metadata": {},
   "outputs": [
    {
     "name": "stdout",
     "output_type": "stream",
     "text": [
      "this is the 1st iteration\n"
     ]
    }
   ],
   "source": [
    "print(\"this is the 1st iteration\")"
   ]
  },
  {
   "cell_type": "code",
   "execution_count": null,
   "id": "11aac163-d112-4143-8703-81aac4591700",
   "metadata": {},
   "outputs": [],
   "source": []
  }
 ],
 "metadata": {
  "kernelspec": {
   "display_name": "Python 3 (ipykernel)",
   "language": "python",
   "name": "python3"
  },
  "language_info": {
   "codemirror_mode": {
    "name": "ipython",
    "version": 3
   },
   "file_extension": ".py",
   "mimetype": "text/x-python",
   "name": "python",
   "nbconvert_exporter": "python",
   "pygments_lexer": "ipython3",
   "version": "3.12.1"
  }
 },
 "nbformat": 4,
 "nbformat_minor": 5
}
